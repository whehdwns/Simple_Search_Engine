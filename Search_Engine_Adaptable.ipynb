{
 "cells": [
  {
   "cell_type": "code",
   "execution_count": 1,
   "id": "3f5421f3",
   "metadata": {},
   "outputs": [
    {
     "name": "stderr",
     "output_type": "stream",
     "text": [
      "[nltk_data] Downloading package stopwords to\n",
      "[nltk_data]     C:\\Users\\dongj\\AppData\\Roaming\\nltk_data...\n",
      "[nltk_data]   Package stopwords is already up-to-date!\n",
      "[nltk_data] Downloading package wordnet to\n",
      "[nltk_data]     C:\\Users\\dongj\\AppData\\Roaming\\nltk_data...\n",
      "[nltk_data]   Package wordnet is already up-to-date!\n"
     ]
    }
   ],
   "source": [
    "import nltk\n",
    "from nltk.tokenize import RegexpTokenizer\n",
    "from collections import Counter, defaultdict, OrderedDict\n",
    "import re\n",
    "import sys\n",
    "import os\n",
    "import math\n",
    "import string\n",
    "import time\n",
    "import operator\n",
    "from itertools import islice\n",
    "\n",
    "nltk.download('stopwords')\n",
    "\n",
    "import pickle\n",
    "\n",
    "import warnings\n",
    "warnings.filterwarnings(\"ignore\")\n",
    "\n",
    "import numpy as np\n",
    "\n",
    "from nltk.stem import WordNetLemmatizer\n",
    "from nltk.stem import PorterStemmer\n",
    "nltk.download('wordnet')\n",
    "lemmatizer = WordNetLemmatizer()\n",
    "ps =PorterStemmer()\n",
    "\n",
    "from sklearn.feature_extraction.text import TfidfVectorizer\n",
    "from sklearn.metrics.pairwise import cosine_similarity"
   ]
  },
  {
   "cell_type": "code",
   "execution_count": 2,
   "id": "cd511e22",
   "metadata": {},
   "outputs": [],
   "source": [
    "text_file = 'Oxford English Dictionary.txt'"
   ]
  },
  {
   "cell_type": "code",
   "execution_count": 3,
   "id": "e533ec34",
   "metadata": {},
   "outputs": [],
   "source": [
    "document =[]\n",
    "with open(text_file,encoding=\"utf8\") as f:\n",
    "    next(f)\n",
    "    for line in f:\n",
    "        if line !='\\n':\n",
    "            document.append(line)"
   ]
  },
  {
   "cell_type": "code",
   "execution_count": 4,
   "id": "b3ebc72f",
   "metadata": {},
   "outputs": [],
   "source": [
    "def normalization(word):\n",
    "    word= word.lower()\n",
    "    word = word.replace('\\n','')\n",
    "    word  = re.sub(r'[^\\w\\s]', '', word)\n",
    "    word = re.sub('[0-9]', '', word)\n",
    "    return word"
   ]
  },
  {
   "cell_type": "code",
   "execution_count": 5,
   "id": "6f825b56",
   "metadata": {},
   "outputs": [],
   "source": [
    "def preprocess(data):\n",
    "    result = []\n",
    "    for line in data:\n",
    "        word = normalization(line)\n",
    "        word = word.lower().strip().split()\n",
    "        stopwords = nltk.corpus.stopwords.words(\"english\")\n",
    "        word = [lemmatizer.lemmatize(lemmatizer.lemmatize(w , 'v'), 'a') for w in word if not w in stopwords]\n",
    "        word = \" \".join(word)\n",
    "        result.append(word)\n",
    "    return result"
   ]
  },
  {
   "cell_type": "code",
   "execution_count": 6,
   "id": "3ddbf7b2",
   "metadata": {},
   "outputs": [],
   "source": [
    "from sklearn.feature_extraction.text import TfidfVectorizer\n",
    "from sklearn.metrics.pairwise import cosine_similarity\n",
    "\n",
    "def search_queries(query, document, num_sentences):\n",
    "    text = []\n",
    "    text = preprocess(document)\n",
    "    text.append(query.lower())\n",
    "    #TF-IDF vectorizer\n",
    "    vectorizer = TfidfVectorizer()\n",
    "    tfidf_matrix = vectorizer.fit_transform(text) \n",
    "    #cosine similarity matrix\n",
    "    similarity_matrix = cosine_similarity(tfidf_matrix[-1], tfidf_matrix[:-1])\n",
    "    top_indices = similarity_matrix.argsort()[0][::-1][:num_sentences]\n",
    "    top_sentences = [document[index] for index in top_indices]\n",
    "    \n",
    "    return top_sentences"
   ]
  },
  {
   "cell_type": "code",
   "execution_count": 7,
   "id": "094b0685",
   "metadata": {},
   "outputs": [],
   "source": [
    "queries = 'Hello World'\n",
    "N = 10"
   ]
  },
  {
   "cell_type": "code",
   "execution_count": 8,
   "id": "ddc30da6",
   "metadata": {},
   "outputs": [],
   "source": [
    "results = search_queries(queries, document, N)"
   ]
  },
  {
   "cell_type": "code",
   "execution_count": 9,
   "id": "bb8ce1d0",
   "metadata": {
    "scrolled": true
   },
   "outputs": [
    {
     "data": {
      "text/plain": [
       "['Man of the world  see *world.\\n',\n",
       " 'Hullo  var. Of *hello.\\n',\n",
       " 'Hallo  var. Of *hello.\\n',\n",
       " 'World  n. 1 a the earth, or a planetary body like it. B its countries and people. 2 the universe, all that exists. 3 a the time, state, or scene of human existence. B (prec. By the, this) mortal life. 4 secular interests and affairs. 5 human affairs; active life. 6 average, respectable, or fashionable people or their customs or opinions. 7 all that concerns or all who belong to a specified class or sphere of activity (the world of sport). 8 (foll. By of) vast amount. 9 (attrib.) Affecting many nations, of all nations (world politics; world champion). \\x7f bring (or come) into the world give birth (or be born). For all the world (foll. By like, as if) precisely. In the world of all; at all (what in the world is it?). Man (or woman) of the world person experienced and practical in human affairs. Out of this world colloq. Extremely good etc. Think the world of have a very high regard for. [old english]\\n',\n",
       " 'Hello  (also hallo, hullo) —int. Expression of informal greeting, or of surprise, or to call attention. —n. (pl. -s) cry of ‘hello’. [var. Of earlier hollo]\\n',\n",
       " 'Hello  (also hallo, hullo) —int. Expression of informal greeting, or of surprise, or to call attention. —n. (pl. -s) cry of ‘hello’. [var. Of earlier hollo]\\n',\n",
       " 'Hello  (also hallo, hullo) —int. Expression of informal greeting, or of surprise, or to call attention. —n. (pl. -s) cry of ‘hello’. [var. Of earlier hollo]\\n',\n",
       " 'Worldwide  —adj. Occurring in or known in all parts of the world. —adv. Throughout the world.\\n',\n",
       " 'Ciao  int. Colloq. 1 goodbye. 2 hello. [italian]\\n',\n",
       " 'Holler  v. & n. Us colloq. Shout. [french holà hello!]\\n']"
      ]
     },
     "execution_count": 9,
     "metadata": {},
     "output_type": "execute_result"
    }
   ],
   "source": [
    "results"
   ]
  }
 ],
 "metadata": {
  "kernelspec": {
   "display_name": "Python 3 (ipykernel)",
   "language": "python",
   "name": "python3"
  },
  "language_info": {
   "codemirror_mode": {
    "name": "ipython",
    "version": 3
   },
   "file_extension": ".py",
   "mimetype": "text/x-python",
   "name": "python",
   "nbconvert_exporter": "python",
   "pygments_lexer": "ipython3",
   "version": "3.10.9"
  }
 },
 "nbformat": 4,
 "nbformat_minor": 5
}
